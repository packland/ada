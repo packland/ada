{
 "cells": [
  {
   "cell_type": "code",
   "execution_count": null,
   "metadata": {},
   "outputs": [],
   "source": [
    "# Editor de silencios de audio"
   ]
  },
  {
   "cell_type": "code",
   "execution_count": 9,
   "metadata": {},
   "outputs": [],
   "source": [
    "# Bibliotecas\n",
    "\n",
    "import scipy.io.wavfile as wav\n",
    "import numpy as np"
   ]
  },
  {
   "cell_type": "code",
   "execution_count": 72,
   "metadata": {},
   "outputs": [],
   "source": [
    "# Funcoes\n",
    "\n",
    "def do_trim_audio(audio_data, min_value):\n",
    "    eh_silencio = np.absolute(audio_data) < [min_value, min_value]\n",
    "    indices_para_remover = np.where(np.all(eh_silencio, axis=-1))\n",
    "    audio_final = np.delete(audio_data, indices_para_remover, axis=0)\n",
    "\n",
    "    return audio_final\n",
    "    "
   ]
  },
  {
   "cell_type": "code",
   "execution_count": 70,
   "metadata": {},
   "outputs": [],
   "source": [
    "# Settings\n",
    "\n",
    "arquivos_audio = [\n",
    "    ('audios\\\\amostra_1.wav', 200),\n",
    "    ('audios\\\\amostra_2.wav', 200),\n",
    "    ('audios\\\\amostra_3.wav', 200),\n",
    "    ]"
   ]
  },
  {
   "cell_type": "code",
   "execution_count": 73,
   "metadata": {},
   "outputs": [],
   "source": [
    "# Saidas\n",
    "\n",
    "for arquivo in arquivos_audio:\n",
    "    rate_audio, audio_data = wav.read(arquivo[0])   \n",
    "    audio_data = do_trim_audio(audio_data, arquivo[1])\n",
    "    wav.write(arquivo[0][:-4] + '_trim.wav', rate_audio, audio_data)"
   ]
  }
 ],
 "metadata": {
  "kernelspec": {
   "display_name": "Python 3",
   "language": "python",
   "name": "python3"
  },
  "language_info": {
   "codemirror_mode": {
    "name": "ipython",
    "version": 3
   },
   "file_extension": ".py",
   "mimetype": "text/x-python",
   "name": "python",
   "nbconvert_exporter": "python",
   "pygments_lexer": "ipython3",
   "version": "3.11.4"
  }
 },
 "nbformat": 4,
 "nbformat_minor": 2
}

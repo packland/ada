{
 "cells": [
  {
   "cell_type": "markdown",
   "metadata": {},
   "source": [
    "# Image Augumentation\n",
    "\n",
    "Fazer as transformações:\n",
    "- Flip vertical. \n",
    "- Flip horizontal. \n",
    "- Rotação aleatória. \n",
    "- Redimensionamento. \n",
    "- Distorção. \n",
    "\n",
    "O que aprendi: (2)"
   ]
  },
  {
   "cell_type": "code",
   "execution_count": 53,
   "metadata": {},
   "outputs": [],
   "source": [
    "#bibliotecas\n",
    "\n",
    "from PIL import Image\n",
    "import random"
   ]
  },
  {
   "cell_type": "code",
   "execution_count": 85,
   "metadata": {},
   "outputs": [],
   "source": [
    "#funcoes\n",
    "#O que aprendi: (1)\n",
    "\n",
    "def do_flip_vertical(img):\n",
    "    saida = Image.open(img)\n",
    "    saida = saida.transpose(Image.FLIP_TOP_BOTTOM)\n",
    "    return saida\n",
    "\n",
    "def do_flip_horizontal(img):\n",
    "    saida = Image.open(img)\n",
    "    saida = saida.transpose(Image.FLIP_LEFT_RIGHT)\n",
    "    return saida\n",
    "\n",
    "def do_rotate(img, angle):\n",
    "    saida = Image.open(img)\n",
    "    saida = saida.rotate(angle)\n",
    "    return saida\n",
    "\n",
    "def do_resize(img, rate=(1, 1)):\n",
    "    rate_width, rate_height = rate\n",
    "    saida = Image.open(img)\n",
    "\n",
    "    saida = saida.resize((int(saida.width * rate_width), int(saida.height * rate_height)))\n",
    "    return saida"
   ]
  },
  {
   "cell_type": "code",
   "execution_count": 129,
   "metadata": {},
   "outputs": [],
   "source": [
    "# Settings\n",
    "\n",
    "imagem_original = r'images\\saruman-original.jpeg'\n",
    "\n",
    "configuracoes = {\n",
    "    'flip_vertical': {},\n",
    "    'flip_horizontal': {},\n",
    "    'rotacao': {'angulo': random.randint(1, 359)},\n",
    "    'resize': {'razao': random.random()},\n",
    "    'distorcao': {'eixo_x': random.random(), 'eixo_y': random.random()}\n",
    "}"
   ]
  },
  {
   "cell_type": "code",
   "execution_count": 128,
   "metadata": {},
   "outputs": [],
   "source": [
    "#Saídas\n",
    "saida = []\n",
    "saida.append(['vertical',  do_flip_vertical(imagem_original)])\n",
    "saida.append(['horizontal',  do_flip_horizontal(imagem_original)])\n",
    "saida.append(['rotate',  do_rotate(imagem_original, configuracoes['rotacao']['angulo'])])\n",
    "saida.append(['redimensionamento',  do_resize(imagem_original, (configuracoes['resize']['razao'], configuracoes['resize']['razao']))])\n",
    "saida.append(['distorcao',  do_resize(imagem_original, (configuracoes['distorcao']['eixo_x'], configuracoes['distorcao']['eixo_y']))])\n",
    "\n",
    "for imagem in saida:\n",
    "    imagem[1].save('images\\imagem_'+ imagem[0] +'.jpg')\n"
   ]
  }
 ],
 "metadata": {
  "kernelspec": {
   "display_name": "Python 3",
   "language": "python",
   "name": "python3"
  },
  "language_info": {
   "codemirror_mode": {
    "name": "ipython",
    "version": 3
   },
   "file_extension": ".py",
   "mimetype": "text/x-python",
   "name": "python",
   "nbconvert_exporter": "python",
   "pygments_lexer": "ipython3",
   "version": "3.11.4"
  }
 },
 "nbformat": 4,
 "nbformat_minor": 2
}

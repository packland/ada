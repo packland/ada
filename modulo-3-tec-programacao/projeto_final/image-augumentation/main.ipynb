{
 "cells": [
  {
   "cell_type": "markdown",
   "metadata": {},
   "source": [
    "# Image Augumentation\n",
    "\n",
    "Fazer as transformações:\n",
    "- Flip vertical. \n",
    "- Flip horizontal. \n",
    "- Rotação aleatória. \n",
    "- Redimensionamento. \n",
    "- Distorção. \n",
    "\n",
    "O que aprendi: (2)"
   ]
  },
  {
   "cell_type": "code",
   "execution_count": 2,
   "metadata": {},
   "outputs": [],
   "source": [
    "#bibliotecas\n",
    "\n",
    "from PIL import Image\n",
    "import random\n",
    "import os"
   ]
  },
  {
   "cell_type": "code",
   "execution_count": 3,
   "metadata": {},
   "outputs": [],
   "source": [
    "#funcoes\n",
    "#O que aprendi: (1)\n",
    "\n",
    "def do_flip_vertical(img):\n",
    "    saida = Image.open(img)\n",
    "    saida = saida.transpose(Image.FLIP_TOP_BOTTOM)\n",
    "    return saida\n",
    "\n",
    "def do_flip_horizontal(img):\n",
    "    saida = Image.open(img)\n",
    "    saida = saida.transpose(Image.FLIP_LEFT_RIGHT)\n",
    "    return saida\n",
    "\n",
    "def do_rotate(img, angle):\n",
    "    saida = Image.open(img)\n",
    "    saida = saida.rotate(angle)\n",
    "    return saida\n",
    "\n",
    "def do_resize(img, rate=(1, 1)):\n",
    "    rate_width, rate_height = rate\n",
    "    saida = Image.open(img)\n",
    "\n",
    "    saida = saida.resize((int(saida.width * rate_width), int(saida.height * rate_height)))\n",
    "    return saida"
   ]
  },
  {
   "cell_type": "code",
   "execution_count": 10,
   "metadata": {},
   "outputs": [],
   "source": [
    "pasta = 'images'\n",
    "elementos = [arquivo for arquivo in os.listdir(pasta) if os.path.isfile(os.path.join(pasta, arquivo))]"
   ]
  },
  {
   "cell_type": "code",
   "execution_count": 16,
   "metadata": {},
   "outputs": [],
   "source": [
    "# Loop\n",
    "\n",
    "for arquivo in elementos:\n",
    "    file = pasta + '\\\\' + arquivo\n",
    "\n",
    "    configuracoes = {\n",
    "        'flip_vertical': {},\n",
    "        'flip_horizontal': {},\n",
    "        'rotacao': {'angulo': random.randint(1, 359)},\n",
    "        'resize': {'razao': random.random()},\n",
    "        'distorcao': {'eixo_x': random.random(), 'eixo_y': random.random()}\n",
    "    }\n",
    "    #Saídas\n",
    "    saida = []\n",
    "    saida.append(['vertical',  do_flip_vertical(file)])\n",
    "    saida.append(['horizontal',  do_flip_horizontal(file)])\n",
    "    saida.append(['rotate',  do_rotate(file, configuracoes['rotacao']['angulo'])])\n",
    "    saida.append(['redimensionamento',  do_resize(file, (configuracoes['resize']['razao'], configuracoes['resize']['razao']))])\n",
    "    saida.append(['distorcao',  do_resize(file, (configuracoes['distorcao']['eixo_x'], configuracoes['distorcao']['eixo_y']))])\n",
    "\n",
    "    for imagem in saida:\n",
    "        imagem[1].save('images\\\\augumentations\\\\' + arquivo + '_'+ imagem[0] +'.jpg')\n"
   ]
  },
  {
   "cell_type": "code",
   "execution_count": 128,
   "metadata": {},
   "outputs": [],
   "source": []
  }
 ],
 "metadata": {
  "kernelspec": {
   "display_name": "Python 3",
   "language": "python",
   "name": "python3"
  },
  "language_info": {
   "codemirror_mode": {
    "name": "ipython",
    "version": 3
   },
   "file_extension": ".py",
   "mimetype": "text/x-python",
   "name": "python",
   "nbconvert_exporter": "python",
   "pygments_lexer": "ipython3",
   "version": "3.11.4"
  }
 },
 "nbformat": 4,
 "nbformat_minor": 2
}

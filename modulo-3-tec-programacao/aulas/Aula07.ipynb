{
 "cells": [
  {
   "cell_type": "code",
   "execution_count": 1,
   "id": "6d3e7464-7034-47a9-8e63-2699c82105fc",
   "metadata": {},
   "outputs": [],
   "source": [
    "import pandas as pd"
   ]
  },
  {
   "cell_type": "code",
   "execution_count": 2,
   "id": "6b18346b-a8d7-454f-8320-df3c59b7430d",
   "metadata": {},
   "outputs": [
    {
     "data": {
      "text/html": [
       "<div>\n",
       "<style scoped>\n",
       "    .dataframe tbody tr th:only-of-type {\n",
       "        vertical-align: middle;\n",
       "    }\n",
       "\n",
       "    .dataframe tbody tr th {\n",
       "        vertical-align: top;\n",
       "    }\n",
       "\n",
       "    .dataframe thead th {\n",
       "        text-align: right;\n",
       "    }\n",
       "</style>\n",
       "<table border=\"1\" class=\"dataframe\">\n",
       "  <thead>\n",
       "    <tr style=\"text-align: right;\">\n",
       "      <th></th>\n",
       "      <th>id</th>\n",
       "      <th>data</th>\n",
       "      <th>nome_cliente</th>\n",
       "      <th>cpf</th>\n",
       "      <th>produto</th>\n",
       "      <th>quantidade</th>\n",
       "      <th>valor_total</th>\n",
       "    </tr>\n",
       "  </thead>\n",
       "  <tbody>\n",
       "    <tr>\n",
       "      <th>0</th>\n",
       "      <td>1</td>\n",
       "      <td>2021-01-01</td>\n",
       "      <td>Alice</td>\n",
       "      <td>111.111.111-11</td>\n",
       "      <td>Produto A</td>\n",
       "      <td>1</td>\n",
       "      <td>10.0</td>\n",
       "    </tr>\n",
       "    <tr>\n",
       "      <th>1</th>\n",
       "      <td>2</td>\n",
       "      <td>2021-01-02</td>\n",
       "      <td>Bob</td>\n",
       "      <td>222.222.222-22</td>\n",
       "      <td>Produto B</td>\n",
       "      <td>2</td>\n",
       "      <td>40.0</td>\n",
       "    </tr>\n",
       "    <tr>\n",
       "      <th>2</th>\n",
       "      <td>3</td>\n",
       "      <td>2021-02-01</td>\n",
       "      <td>Clara</td>\n",
       "      <td>333.333.333-33</td>\n",
       "      <td>Produto A</td>\n",
       "      <td>3</td>\n",
       "      <td>30.0</td>\n",
       "    </tr>\n",
       "    <tr>\n",
       "      <th>3</th>\n",
       "      <td>4</td>\n",
       "      <td>2021-02-02</td>\n",
       "      <td>David</td>\n",
       "      <td>444.444.444-44</td>\n",
       "      <td>Produto B</td>\n",
       "      <td>4</td>\n",
       "      <td>80.0</td>\n",
       "    </tr>\n",
       "    <tr>\n",
       "      <th>4</th>\n",
       "      <td>5</td>\n",
       "      <td>2021-02-03</td>\n",
       "      <td>Eva</td>\n",
       "      <td>555.555.555-55</td>\n",
       "      <td>Produto C</td>\n",
       "      <td>5</td>\n",
       "      <td>150.0</td>\n",
       "    </tr>\n",
       "  </tbody>\n",
       "</table>\n",
       "</div>"
      ],
      "text/plain": [
       "   id        data nome_cliente             cpf    produto  quantidade  \\\n",
       "0   1  2021-01-01        Alice  111.111.111-11  Produto A           1   \n",
       "1   2  2021-01-02          Bob  222.222.222-22  Produto B           2   \n",
       "2   3  2021-02-01        Clara  333.333.333-33  Produto A           3   \n",
       "3   4  2021-02-02        David  444.444.444-44  Produto B           4   \n",
       "4   5  2021-02-03          Eva  555.555.555-55  Produto C           5   \n",
       "\n",
       "   valor_total  \n",
       "0         10.0  \n",
       "1         40.0  \n",
       "2         30.0  \n",
       "3         80.0  \n",
       "4        150.0  "
      ]
     },
     "execution_count": 2,
     "metadata": {},
     "output_type": "execute_result"
    }
   ],
   "source": [
    "df = pd.read_csv('dados_vendas.csv')\n",
    "df"
   ]
  },
  {
   "cell_type": "markdown",
   "id": "4d23d3f1-fc16-40b2-b0ea-40145aff108a",
   "metadata": {},
   "source": [
    "#### Safrar"
   ]
  },
  {
   "cell_type": "code",
   "execution_count": 3,
   "id": "6d361eb4-a0d8-41ad-8b7d-93a239dc8049",
   "metadata": {},
   "outputs": [
    {
     "data": {
      "text/plain": [
       "id                int64\n",
       "data             object\n",
       "nome_cliente     object\n",
       "cpf              object\n",
       "produto          object\n",
       "quantidade        int64\n",
       "valor_total     float64\n",
       "dtype: object"
      ]
     },
     "execution_count": 3,
     "metadata": {},
     "output_type": "execute_result"
    }
   ],
   "source": [
    "df.dtypes"
   ]
  },
  {
   "cell_type": "code",
   "execution_count": 6,
   "id": "94e6f3d5-12ed-454a-aebe-6be8d38f23f9",
   "metadata": {},
   "outputs": [
    {
     "data": {
      "text/plain": [
       "id                       int64\n",
       "data            datetime64[ns]\n",
       "nome_cliente            object\n",
       "cpf                     object\n",
       "produto                 object\n",
       "quantidade               int64\n",
       "valor_total            float64\n",
       "dtype: object"
      ]
     },
     "execution_count": 6,
     "metadata": {},
     "output_type": "execute_result"
    }
   ],
   "source": [
    "df['data'] = pd.to_datetime(df['data'])\n",
    "df.dtypes"
   ]
  },
  {
   "cell_type": "code",
   "execution_count": 11,
   "id": "ea50bdcb-83d7-48e7-9408-0d640497e744",
   "metadata": {},
   "outputs": [
    {
     "data": {
      "text/html": [
       "<div>\n",
       "<style scoped>\n",
       "    .dataframe tbody tr th:only-of-type {\n",
       "        vertical-align: middle;\n",
       "    }\n",
       "\n",
       "    .dataframe tbody tr th {\n",
       "        vertical-align: top;\n",
       "    }\n",
       "\n",
       "    .dataframe thead th {\n",
       "        text-align: right;\n",
       "    }\n",
       "</style>\n",
       "<table border=\"1\" class=\"dataframe\">\n",
       "  <thead>\n",
       "    <tr style=\"text-align: right;\">\n",
       "      <th></th>\n",
       "      <th>id</th>\n",
       "      <th>data</th>\n",
       "      <th>nome_cliente</th>\n",
       "      <th>cpf</th>\n",
       "      <th>produto</th>\n",
       "      <th>quantidade</th>\n",
       "      <th>valor_total</th>\n",
       "      <th>safra</th>\n",
       "    </tr>\n",
       "  </thead>\n",
       "  <tbody>\n",
       "    <tr>\n",
       "      <th>0</th>\n",
       "      <td>1</td>\n",
       "      <td>2021-01-01</td>\n",
       "      <td>Alice</td>\n",
       "      <td>111.111.111-11</td>\n",
       "      <td>Produto A</td>\n",
       "      <td>1</td>\n",
       "      <td>10.0</td>\n",
       "      <td>2101</td>\n",
       "    </tr>\n",
       "    <tr>\n",
       "      <th>1</th>\n",
       "      <td>2</td>\n",
       "      <td>2021-01-02</td>\n",
       "      <td>Bob</td>\n",
       "      <td>222.222.222-22</td>\n",
       "      <td>Produto B</td>\n",
       "      <td>2</td>\n",
       "      <td>40.0</td>\n",
       "      <td>2101</td>\n",
       "    </tr>\n",
       "    <tr>\n",
       "      <th>2</th>\n",
       "      <td>3</td>\n",
       "      <td>2021-02-01</td>\n",
       "      <td>Clara</td>\n",
       "      <td>333.333.333-33</td>\n",
       "      <td>Produto A</td>\n",
       "      <td>3</td>\n",
       "      <td>30.0</td>\n",
       "      <td>2102</td>\n",
       "    </tr>\n",
       "    <tr>\n",
       "      <th>3</th>\n",
       "      <td>4</td>\n",
       "      <td>2021-02-02</td>\n",
       "      <td>David</td>\n",
       "      <td>444.444.444-44</td>\n",
       "      <td>Produto B</td>\n",
       "      <td>4</td>\n",
       "      <td>80.0</td>\n",
       "      <td>2102</td>\n",
       "    </tr>\n",
       "    <tr>\n",
       "      <th>4</th>\n",
       "      <td>5</td>\n",
       "      <td>2021-02-03</td>\n",
       "      <td>Eva</td>\n",
       "      <td>555.555.555-55</td>\n",
       "      <td>Produto C</td>\n",
       "      <td>5</td>\n",
       "      <td>150.0</td>\n",
       "      <td>2102</td>\n",
       "    </tr>\n",
       "  </tbody>\n",
       "</table>\n",
       "</div>"
      ],
      "text/plain": [
       "   id       data nome_cliente             cpf    produto  quantidade  \\\n",
       "0   1 2021-01-01        Alice  111.111.111-11  Produto A           1   \n",
       "1   2 2021-01-02          Bob  222.222.222-22  Produto B           2   \n",
       "2   3 2021-02-01        Clara  333.333.333-33  Produto A           3   \n",
       "3   4 2021-02-02        David  444.444.444-44  Produto B           4   \n",
       "4   5 2021-02-03          Eva  555.555.555-55  Produto C           5   \n",
       "\n",
       "   valor_total safra  \n",
       "0         10.0  2101  \n",
       "1         40.0  2101  \n",
       "2         30.0  2102  \n",
       "3         80.0  2102  \n",
       "4        150.0  2102  "
      ]
     },
     "execution_count": 11,
     "metadata": {},
     "output_type": "execute_result"
    }
   ],
   "source": [
    "formato_safra = lambda data: data.strftime('%y%m')\n",
    "df['safra'] = df['data'].apply(formato_safra)\n",
    "df"
   ]
  },
  {
   "cell_type": "code",
   "execution_count": 17,
   "id": "2cb67c18-af5c-4c8a-ba97-5b81ba5ee09f",
   "metadata": {},
   "outputs": [],
   "source": [
    "for safra in df['safra'].unique():\n",
    "    df_temp = df[df['safra'] == safra]\n",
    "    df_temp.to_csv(f'dados_venda_{safra}.csv', index=False)"
   ]
  },
  {
   "cell_type": "code",
   "execution_count": 19,
   "id": "d2308f6f-d686-491b-8c54-1546b6aba20c",
   "metadata": {},
   "outputs": [
    {
     "data": {
      "text/html": [
       "<div>\n",
       "<style scoped>\n",
       "    .dataframe tbody tr th:only-of-type {\n",
       "        vertical-align: middle;\n",
       "    }\n",
       "\n",
       "    .dataframe tbody tr th {\n",
       "        vertical-align: top;\n",
       "    }\n",
       "\n",
       "    .dataframe thead th {\n",
       "        text-align: right;\n",
       "    }\n",
       "</style>\n",
       "<table border=\"1\" class=\"dataframe\">\n",
       "  <thead>\n",
       "    <tr style=\"text-align: right;\">\n",
       "      <th></th>\n",
       "      <th>id</th>\n",
       "      <th>data</th>\n",
       "      <th>nome_cliente</th>\n",
       "      <th>cpf</th>\n",
       "      <th>produto</th>\n",
       "      <th>quantidade</th>\n",
       "      <th>valor_total</th>\n",
       "      <th>safra</th>\n",
       "    </tr>\n",
       "  </thead>\n",
       "  <tbody>\n",
       "    <tr>\n",
       "      <th>0</th>\n",
       "      <td>1</td>\n",
       "      <td>2021-01-01</td>\n",
       "      <td>Alice</td>\n",
       "      <td>111.111.111-11</td>\n",
       "      <td>Produto A</td>\n",
       "      <td>1</td>\n",
       "      <td>10.0</td>\n",
       "      <td>2101</td>\n",
       "    </tr>\n",
       "    <tr>\n",
       "      <th>1</th>\n",
       "      <td>2</td>\n",
       "      <td>2021-01-02</td>\n",
       "      <td>Bob</td>\n",
       "      <td>222.222.222-22</td>\n",
       "      <td>Produto B</td>\n",
       "      <td>2</td>\n",
       "      <td>40.0</td>\n",
       "      <td>2101</td>\n",
       "    </tr>\n",
       "  </tbody>\n",
       "</table>\n",
       "</div>"
      ],
      "text/plain": [
       "   id        data nome_cliente             cpf    produto  quantidade  \\\n",
       "0   1  2021-01-01        Alice  111.111.111-11  Produto A           1   \n",
       "1   2  2021-01-02          Bob  222.222.222-22  Produto B           2   \n",
       "\n",
       "   valor_total  safra  \n",
       "0         10.0   2101  \n",
       "1         40.0   2101  "
      ]
     },
     "execution_count": 19,
     "metadata": {},
     "output_type": "execute_result"
    }
   ],
   "source": [
    "df_jan = pd.read_csv('dados_venda_2101.csv')\n",
    "df_jan"
   ]
  },
  {
   "cell_type": "code",
   "execution_count": 20,
   "id": "5a2ceb6e-3ad4-4903-9c50-c31d2c151d07",
   "metadata": {},
   "outputs": [
    {
     "data": {
      "text/html": [
       "<div>\n",
       "<style scoped>\n",
       "    .dataframe tbody tr th:only-of-type {\n",
       "        vertical-align: middle;\n",
       "    }\n",
       "\n",
       "    .dataframe tbody tr th {\n",
       "        vertical-align: top;\n",
       "    }\n",
       "\n",
       "    .dataframe thead th {\n",
       "        text-align: right;\n",
       "    }\n",
       "</style>\n",
       "<table border=\"1\" class=\"dataframe\">\n",
       "  <thead>\n",
       "    <tr style=\"text-align: right;\">\n",
       "      <th></th>\n",
       "      <th>id</th>\n",
       "      <th>data</th>\n",
       "      <th>nome_cliente</th>\n",
       "      <th>cpf</th>\n",
       "      <th>produto</th>\n",
       "      <th>quantidade</th>\n",
       "      <th>valor_total</th>\n",
       "      <th>safra</th>\n",
       "    </tr>\n",
       "  </thead>\n",
       "  <tbody>\n",
       "    <tr>\n",
       "      <th>0</th>\n",
       "      <td>3</td>\n",
       "      <td>2021-02-01</td>\n",
       "      <td>Clara</td>\n",
       "      <td>333.333.333-33</td>\n",
       "      <td>Produto A</td>\n",
       "      <td>3</td>\n",
       "      <td>30.0</td>\n",
       "      <td>2102</td>\n",
       "    </tr>\n",
       "    <tr>\n",
       "      <th>1</th>\n",
       "      <td>4</td>\n",
       "      <td>2021-02-02</td>\n",
       "      <td>David</td>\n",
       "      <td>444.444.444-44</td>\n",
       "      <td>Produto B</td>\n",
       "      <td>4</td>\n",
       "      <td>80.0</td>\n",
       "      <td>2102</td>\n",
       "    </tr>\n",
       "    <tr>\n",
       "      <th>2</th>\n",
       "      <td>5</td>\n",
       "      <td>2021-02-03</td>\n",
       "      <td>Eva</td>\n",
       "      <td>555.555.555-55</td>\n",
       "      <td>Produto C</td>\n",
       "      <td>5</td>\n",
       "      <td>150.0</td>\n",
       "      <td>2102</td>\n",
       "    </tr>\n",
       "  </tbody>\n",
       "</table>\n",
       "</div>"
      ],
      "text/plain": [
       "   id        data nome_cliente             cpf    produto  quantidade  \\\n",
       "0   3  2021-02-01        Clara  333.333.333-33  Produto A           3   \n",
       "1   4  2021-02-02        David  444.444.444-44  Produto B           4   \n",
       "2   5  2021-02-03          Eva  555.555.555-55  Produto C           5   \n",
       "\n",
       "   valor_total  safra  \n",
       "0         30.0   2102  \n",
       "1         80.0   2102  \n",
       "2        150.0   2102  "
      ]
     },
     "execution_count": 20,
     "metadata": {},
     "output_type": "execute_result"
    }
   ],
   "source": [
    "df_jan = pd.read_csv('dados_venda_2102.csv')\n",
    "df_jan"
   ]
  },
  {
   "cell_type": "markdown",
   "id": "d18327b5-de86-4001-a9b3-5c4a8732ce3e",
   "metadata": {},
   "source": [
    "##### Exercício\n",
    "Partindo de dados_vendas.csv:\n",
    "- Crie a Tabela Cliente\n",
    "- Crie a Tabela Produto\n",
    "- Crie a Tabela Pedido"
   ]
  },
  {
   "cell_type": "code",
   "execution_count": 22,
   "id": "a421dc55-4102-4a44-91b7-be871ea54daf",
   "metadata": {},
   "outputs": [
    {
     "data": {
      "text/html": [
       "<div>\n",
       "<style scoped>\n",
       "    .dataframe tbody tr th:only-of-type {\n",
       "        vertical-align: middle;\n",
       "    }\n",
       "\n",
       "    .dataframe tbody tr th {\n",
       "        vertical-align: top;\n",
       "    }\n",
       "\n",
       "    .dataframe thead th {\n",
       "        text-align: right;\n",
       "    }\n",
       "</style>\n",
       "<table border=\"1\" class=\"dataframe\">\n",
       "  <thead>\n",
       "    <tr style=\"text-align: right;\">\n",
       "      <th></th>\n",
       "      <th>nome</th>\n",
       "      <th>nota</th>\n",
       "    </tr>\n",
       "  </thead>\n",
       "  <tbody>\n",
       "    <tr>\n",
       "      <th>0</th>\n",
       "      <td>A</td>\n",
       "      <td>85.0</td>\n",
       "    </tr>\n",
       "    <tr>\n",
       "      <th>1</th>\n",
       "      <td>B</td>\n",
       "      <td>NaN</td>\n",
       "    </tr>\n",
       "    <tr>\n",
       "      <th>2</th>\n",
       "      <td>C</td>\n",
       "      <td>95.0</td>\n",
       "    </tr>\n",
       "    <tr>\n",
       "      <th>3</th>\n",
       "      <td>D</td>\n",
       "      <td>78.0</td>\n",
       "    </tr>\n",
       "    <tr>\n",
       "      <th>4</th>\n",
       "      <td>E</td>\n",
       "      <td>NaN</td>\n",
       "    </tr>\n",
       "  </tbody>\n",
       "</table>\n",
       "</div>"
      ],
      "text/plain": [
       "  nome  nota\n",
       "0    A  85.0\n",
       "1    B   NaN\n",
       "2    C  95.0\n",
       "3    D  78.0\n",
       "4    E   NaN"
      ]
     },
     "execution_count": 22,
     "metadata": {},
     "output_type": "execute_result"
    }
   ],
   "source": [
    "import numpy as np\n",
    "\n",
    "notas_provas = pd.DataFrame({\n",
    "    'nome': ['A', 'B', 'C', 'D', 'E'],\n",
    "    'nota': [85, np.nan, 95, 78, np.nan]\n",
    "})\n",
    "notas_provas"
   ]
  },
  {
   "cell_type": "code",
   "execution_count": 24,
   "id": "59cc3762-440d-47ac-a902-03e518a04ffd",
   "metadata": {},
   "outputs": [
    {
     "data": {
      "text/plain": [
       "0    85.0\n",
       "1    90.0\n",
       "2    95.0\n",
       "3    78.0\n",
       "4    78.0\n",
       "Name: nota, dtype: float64"
      ]
     },
     "execution_count": 24,
     "metadata": {},
     "output_type": "execute_result"
    }
   ],
   "source": [
    "notas_provas['nota'].interpolate()"
   ]
  },
  {
   "cell_type": "markdown",
   "id": "76f87029-b75a-4035-aa5e-cf513d802546",
   "metadata": {},
   "source": [
    "#### Metadados de documentos"
   ]
  },
  {
   "cell_type": "code",
   "execution_count": 25,
   "id": "763e530b-393a-4ee3-b9c9-2901103fe19f",
   "metadata": {},
   "outputs": [
    {
     "data": {
      "text/html": [
       "<div>\n",
       "<style scoped>\n",
       "    .dataframe tbody tr th:only-of-type {\n",
       "        vertical-align: middle;\n",
       "    }\n",
       "\n",
       "    .dataframe tbody tr th {\n",
       "        vertical-align: top;\n",
       "    }\n",
       "\n",
       "    .dataframe thead th {\n",
       "        text-align: right;\n",
       "    }\n",
       "</style>\n",
       "<table border=\"1\" class=\"dataframe\">\n",
       "  <thead>\n",
       "    <tr style=\"text-align: right;\">\n",
       "      <th></th>\n",
       "      <th>data</th>\n",
       "      <th>titulo</th>\n",
       "      <th>autor</th>\n",
       "      <th>texto</th>\n",
       "    </tr>\n",
       "  </thead>\n",
       "  <tbody>\n",
       "    <tr>\n",
       "      <th>0</th>\n",
       "      <td>2024-01-01</td>\n",
       "      <td>Primeiro Artigo</td>\n",
       "      <td>Autor 1</td>\n",
       "      <td>On Windows, if secs is zero.\\n        the thre...</td>\n",
       "    </tr>\n",
       "    <tr>\n",
       "      <th>1</th>\n",
       "      <td>2024-01-02</td>\n",
       "      <td>Segundo Artigo</td>\n",
       "      <td>Autor 2</td>\n",
       "      <td>The following directives can be embedded in th...</td>\n",
       "    </tr>\n",
       "  </tbody>\n",
       "</table>\n",
       "</div>"
      ],
      "text/plain": [
       "         data           titulo    autor  \\\n",
       "0  2024-01-01  Primeiro Artigo  Autor 1   \n",
       "1  2024-01-02   Segundo Artigo  Autor 2   \n",
       "\n",
       "                                               texto  \n",
       "0  On Windows, if secs is zero.\\n        the thre...  \n",
       "1  The following directives can be embedded in th...  "
      ]
     },
     "execution_count": 25,
     "metadata": {},
     "output_type": "execute_result"
    }
   ],
   "source": [
    "dados = {\n",
    "    'data': ['2024-01-01', '2024-01-02'],\n",
    "    'titulo': ['Primeiro Artigo', 'Segundo Artigo'],\n",
    "    'autor': ['Autor 1', 'Autor 2'],\n",
    "    'texto':[\n",
    "        '''On Windows, if secs is zero.\n",
    "        the thread relinquishes the remainder of its time slice to any other thread that is ready to run.''',\n",
    "        '''The following directives can be embedded in the format string.\n",
    "        They are shown without the optional field width and precision specification.'''\n",
    "    ]\n",
    "}\n",
    "\n",
    "df_artigos = pd.DataFrame(dados)\n",
    "df_artigos"
   ]
  },
  {
   "cell_type": "code",
   "execution_count": 26,
   "id": "d561ca04-c983-4097-90d1-a211e62d806a",
   "metadata": {},
   "outputs": [
    {
     "data": {
      "text/plain": [
       "4"
      ]
     },
     "execution_count": 26,
     "metadata": {},
     "output_type": "execute_result"
    }
   ],
   "source": [
    "def contador_palavras(texto):\n",
    "    return len(texto.split())\n",
    "\n",
    "contador_palavras('teste 1 2 3')"
   ]
  },
  {
   "cell_type": "code",
   "execution_count": 27,
   "id": "ecd0b98c-8f20-4797-ae97-6c3e6ffccb22",
   "metadata": {},
   "outputs": [
    {
     "data": {
      "text/html": [
       "<div>\n",
       "<style scoped>\n",
       "    .dataframe tbody tr th:only-of-type {\n",
       "        vertical-align: middle;\n",
       "    }\n",
       "\n",
       "    .dataframe tbody tr th {\n",
       "        vertical-align: top;\n",
       "    }\n",
       "\n",
       "    .dataframe thead th {\n",
       "        text-align: right;\n",
       "    }\n",
       "</style>\n",
       "<table border=\"1\" class=\"dataframe\">\n",
       "  <thead>\n",
       "    <tr style=\"text-align: right;\">\n",
       "      <th></th>\n",
       "      <th>data</th>\n",
       "      <th>titulo</th>\n",
       "      <th>autor</th>\n",
       "      <th>texto</th>\n",
       "      <th>qtde_palavras</th>\n",
       "    </tr>\n",
       "  </thead>\n",
       "  <tbody>\n",
       "    <tr>\n",
       "      <th>0</th>\n",
       "      <td>2024-01-01</td>\n",
       "      <td>Primeiro Artigo</td>\n",
       "      <td>Autor 1</td>\n",
       "      <td>On Windows, if secs is zero.\\n        the thre...</td>\n",
       "      <td>24</td>\n",
       "    </tr>\n",
       "    <tr>\n",
       "      <th>1</th>\n",
       "      <td>2024-01-02</td>\n",
       "      <td>Segundo Artigo</td>\n",
       "      <td>Autor 2</td>\n",
       "      <td>The following directives can be embedded in th...</td>\n",
       "      <td>21</td>\n",
       "    </tr>\n",
       "  </tbody>\n",
       "</table>\n",
       "</div>"
      ],
      "text/plain": [
       "         data           titulo    autor  \\\n",
       "0  2024-01-01  Primeiro Artigo  Autor 1   \n",
       "1  2024-01-02   Segundo Artigo  Autor 2   \n",
       "\n",
       "                                               texto  qtde_palavras  \n",
       "0  On Windows, if secs is zero.\\n        the thre...             24  \n",
       "1  The following directives can be embedded in th...             21  "
      ]
     },
     "execution_count": 27,
     "metadata": {},
     "output_type": "execute_result"
    }
   ],
   "source": [
    "df_artigos['qtde_palavras'] = df_artigos['texto'].apply(contador_palavras)\n",
    "df_artigos"
   ]
  },
  {
   "cell_type": "code",
   "execution_count": null,
   "id": "ccbe4ba6-25dd-4173-bffe-fb4f69d069d9",
   "metadata": {},
   "outputs": [],
   "source": [
    "def contador_frases(texto):\n",
    "    pass"
   ]
  },
  {
   "cell_type": "code",
   "execution_count": null,
   "id": "12d33cde-b7c8-47f3-b925-a25e00f38821",
   "metadata": {},
   "outputs": [],
   "source": [
    "def comprimento_medio_palavras(texto):\n",
    "    pass"
   ]
  },
  {
   "cell_type": "code",
   "execution_count": null,
   "id": "819eb353-5377-45c0-9f33-7e226259b80b",
   "metadata": {},
   "outputs": [],
   "source": [
    "def comprimento_medio_frases(texto):\n",
    "    pass"
   ]
  },
  {
   "cell_type": "code",
   "execution_count": null,
   "id": "2de945ef-edd3-432e-ba92-d37a092d9e96",
   "metadata": {},
   "outputs": [],
   "source": [
    "def contagem_paragrafos(texto):\n",
    "    pass"
   ]
  },
  {
   "cell_type": "code",
   "execution_count": null,
   "id": "22ab9b19-4edf-4c23-91b3-a3b2d51ec9a6",
   "metadata": {},
   "outputs": [],
   "source": [
    "def contagem_caracteres(texto):\n",
    "    pass"
   ]
  },
  {
   "cell_type": "code",
   "execution_count": null,
   "id": "d732f334-615d-49df-ad32-4663ceef7d43",
   "metadata": {},
   "outputs": [],
   "source": [
    "def diversidade_palavras(texto):\n",
    "    pass"
   ]
  }
 ],
 "metadata": {
  "kernelspec": {
   "display_name": "Python 3 (ipykernel)",
   "language": "python",
   "name": "python3"
  },
  "language_info": {
   "codemirror_mode": {
    "name": "ipython",
    "version": 3
   },
   "file_extension": ".py",
   "mimetype": "text/x-python",
   "name": "python",
   "nbconvert_exporter": "python",
   "pygments_lexer": "ipython3",
   "version": "3.10.12"
  }
 },
 "nbformat": 4,
 "nbformat_minor": 5
}

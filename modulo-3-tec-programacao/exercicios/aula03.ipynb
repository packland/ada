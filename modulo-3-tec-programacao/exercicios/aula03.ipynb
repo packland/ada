{
 "cells": [
  {
   "cell_type": "code",
   "execution_count": 6,
   "metadata": {},
   "outputs": [],
   "source": [
    "import numpy as np"
   ]
  },
  {
   "cell_type": "code",
   "execution_count": 15,
   "metadata": {},
   "outputs": [
    {
     "name": "stdout",
     "output_type": "stream",
     "text": [
      "[[7.51602728e-312 3.16202013e-322 0.00000000e+000 0.00000000e+000]\n",
      " [1.08221785e-312 1.46631893e-075 1.77234305e-051 8.07035395e+169]\n",
      " [6.87432730e-038 5.28979101e+174 1.90016708e-052 5.64832339e-038]]\n",
      "[[1 1 1 1]\n",
      " [1 1 1 1]\n",
      " [1 1 1 1]]\n"
     ]
    }
   ],
   "source": [
    "#How to create an empty and a full NumPy array?\n",
    "empty_array = np.empty([3, 4])\n",
    "print(empty_array)\n",
    "\n",
    "full_array = np.full([3, 4], 1)\n",
    "print(full_array)"
   ]
  },
  {
   "cell_type": "code",
   "execution_count": 17,
   "metadata": {},
   "outputs": [
    {
     "name": "stdout",
     "output_type": "stream",
     "text": [
      "[[0. 0. 0. 0.]\n",
      " [0. 0. 0. 0.]\n",
      " [0. 0. 0. 0.]]\n"
     ]
    }
   ],
   "source": [
    "#Create a Numpy array filled with all zeros\n",
    "zeros = np.zeros([3, 4])\n",
    "print(zeros)"
   ]
  },
  {
   "cell_type": "code",
   "execution_count": 19,
   "metadata": {},
   "outputs": [
    {
     "name": "stdout",
     "output_type": "stream",
     "text": [
      "[1. 1. 1.]\n"
     ]
    }
   ],
   "source": [
    "#Create a Numpy array filled with all ones\n",
    "ones = np.ones(3)\n",
    "print(ones)"
   ]
  },
  {
   "cell_type": "code",
   "execution_count": 25,
   "metadata": {},
   "outputs": [
    {
     "name": "stdout",
     "output_type": "stream",
     "text": [
      "[1 2 3 4 5]\n",
      "[1, 2, 3, 4, 5]\n",
      "True\n",
      "True\n"
     ]
    }
   ],
   "source": [
    "#Check whether a Numpy array contains a specified row\n",
    "array = np.array([1, 2, 3, 4, 5])\n",
    "value = 2\n",
    "value_array = np.array(3)\n",
    "\n",
    "contains_value = value in array.tolist()\n",
    "contains_array = value_array in array.tolist()\n",
    "print(array)\n",
    "print(array.tolist())\n",
    "print(contains_value)\n",
    "print(contains_array)"
   ]
  }
 ],
 "metadata": {
  "kernelspec": {
   "display_name": "Python 3",
   "language": "python",
   "name": "python3"
  },
  "language_info": {
   "codemirror_mode": {
    "name": "ipython",
    "version": 3
   },
   "file_extension": ".py",
   "mimetype": "text/x-python",
   "name": "python",
   "nbconvert_exporter": "python",
   "pygments_lexer": "ipython3",
   "version": "3.11.4"
  }
 },
 "nbformat": 4,
 "nbformat_minor": 2
}

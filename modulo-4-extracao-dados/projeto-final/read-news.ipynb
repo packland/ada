{
 "cells": [
  {
   "cell_type": "markdown",
   "metadata": {},
   "source": [
    "## Lê a api de notícias"
   ]
  },
  {
   "cell_type": "code",
   "execution_count": 27,
   "metadata": {},
   "outputs": [],
   "source": [
    "# Imports\n",
    "from newsapi import NewsApiClient\n",
    "from datetime import datetime, timezone, timedelta\n",
    "import json\n"
   ]
  },
  {
   "cell_type": "code",
   "execution_count": 12,
   "metadata": {},
   "outputs": [
    {
     "data": {
      "text/plain": [
       "'7de17e31aec0420c90ce07e3019bc2f5'"
      ]
     },
     "execution_count": 12,
     "metadata": {},
     "output_type": "execute_result"
    }
   ],
   "source": [
    "# Retorna a API Key\n",
    "with open('credentials.json') as f:\n",
    "    data = json.load(f)\n",
    "\n",
    "newsapi_key = data['newsapi-key']"
   ]
  },
  {
   "cell_type": "code",
   "execution_count": 46,
   "metadata": {},
   "outputs": [
    {
     "name": "stdout",
     "output_type": "stream",
     "text": [
      "2024-04-01 02:02:51.051244+00:00 ----- 2024-03-31 00:02:51.051244+00:00 ----- 2024-03-31 02:02:51.051244+00:00\n"
     ]
    }
   ],
   "source": [
    "# Critérios de busca\n",
    "# ver doc da api em https://newsapi.org/docs/endpoints/everything\n",
    "\n",
    "data_hora_atual = datetime.now(timezone.utc)\n",
    "\n",
    "criterios = {\n",
    "    'palavras-chave': 'bitcoin',\n",
    "    'from': data_hora_atual - timedelta(days=1, hours=2),\n",
    "    'to': data_hora_atual - timedelta(days=1)\n",
    "}\n",
    "print(data_hora_atual, '-----', criterios['from'], '-----', criterios['to'])"
   ]
  },
  {
   "cell_type": "code",
   "execution_count": 47,
   "metadata": {},
   "outputs": [
    {
     "data": {
      "text/plain": [
       "{'status': 'ok',\n",
       " 'totalResults': 7,\n",
       " 'articles': [{'source': {'id': None, 'name': 'Biztoc.com'},\n",
       "   'author': 'en.bitcoinsistemi.com',\n",
       "   'title': 'Whale Who Fell Asleep 12 Years Ago Buying Bitcoin at $8 Wakes Up',\n",
       "   'description': 'A Bitcoin wallet that has been dormant for nearly 12 years has suddenly become operational. The wallet transferred its entire balance of 500 Bitcoins, worth just under $35 million at current prices, to 284 new wallets. According to data from Lookonchain, the …',\n",
       "   'url': 'https://biztoc.com/x/f201f54ccf082af9',\n",
       "   'urlToImage': 'https://c.biztoc.com/p/f201f54ccf082af9/s.webp',\n",
       "   'publishedAt': '2024-03-31T01:48:05Z',\n",
       "   'content': 'A Bitcoin wallet that has been dormant for nearly 12 years has suddenly become operational. The wallet transferred its entire balance of 500 Bitcoins, worth just under $35 million at current prices, … [+271 chars]'},\n",
       "  {'source': {'id': None, 'name': 'BeInCrypto'},\n",
       "   'author': 'Eduardo Venegas',\n",
       "   'title': '¿Cómo Warren Buffett se beneficia de Bitcoin y las criptomonedas?',\n",
       "   'description': 'A pesar del escepticismo de Warren Buffett hacia las criptomonedas, Berkshire Hathaway ve ganancias sustanciales en Nu Holdings, una empresa dedicada a las criptomonedas. Esta inversión indica un reconocimiento de la rentabilidad de las criptomonedas, que con…',\n",
       "   'url': 'https://es.beincrypto.com/warren-buffett-beneficia-bitcoin-criptomonedas/',\n",
       "   'urlToImage': 'https://s32679.pcdn.co/wp-content/uploads/2024/03/BIC_Warren_Buffet-covers_neutral.png.webp',\n",
       "   'publishedAt': '2024-03-31T01:36:12Z',\n",
       "   'content': 'Warren Buffett, un crítico incondicional de Bitcoin y las criptomonedas, está cosechando indirectamente los beneficios de la clase de activos que a menudo ha desestimado. \\r\\nA pesar de su escepticismo… [+3299 chars]'},\n",
       "  {'source': {'id': None, 'name': 'Biztoc.com'},\n",
       "   'author': 'cnbc.com',\n",
       "   'title': 'Bitcoin could soar to $150,000 this year, hedge fund manager Mark Yusko predicts',\n",
       "   'description': 'Hedge fund manager Mark Yusko is predicting bitcoin will more than double this year to $150,000. \"Get off zero,\" the Morgan Creek Capital Management CEO and chief investment officer told CNBC\\'s \"Fast Money\" this week. Yusko thinks investors should have at lea…',\n",
       "   'url': 'https://biztoc.com/x/d46df355c11060a0',\n",
       "   'urlToImage': 'https://c.biztoc.com/p/d46df355c11060a0/s.webp',\n",
       "   'publishedAt': '2024-03-31T01:18:08Z',\n",
       "   'content': 'Hedge fund manager Mark Yusko is predicting bitcoin will more than double this year to $150,000.\"Get off zero,\" the Morgan Creek Capital Management CEO and chief investment officer told CNBC\\'s \"Fast … [+246 chars]'},\n",
       "  {'source': {'id': None, 'name': 'Investing.com'},\n",
       "   'author': 'Investing.com',\n",
       "   'title': 'Bragar Eagel & Squire, P.C. Reminds Investors That Class Action Lawsuits Have Been Filed Against Hut 8, Anavex, and Innoviz and Encourages Investors to Contact the Firm',\n",
       "   'description': 'Bragar Eagel & Squire, P.C. Reminds Investors That Class Action Lawsuits Have Been Filed Against Hut 8, Anavex, and Innoviz and Encourages Investors to Contact the Firm',\n",
       "   'url': 'https://www.investing.com/news/press-releases/bragar-eagel--squire-pc-reminds-investors-that-class-action-lawsuits-have-been-filed-against-hut-8-anavex-and-innoviz-and-encourages-investors-to-contact-the-firm-93CH-3358576',\n",
       "   'urlToImage': 'https://i-invdn-com.investing.com/news/World_News_9_800x533_L_1420026261.jpg',\n",
       "   'publishedAt': '2024-03-31T01:12:07Z',\n",
       "   'content': 'NEW YORK, March 30, 2024 (GLOBE NEWSWIRE) -- Bragar Eagel &amp; Squire, P.C., a nationally recognized shareholder rights law firm, reminds investors that class actions have been commenced on behalf o… [+6030 chars]'},\n",
       "  {'source': {'id': None, 'name': 'Ambcrypto.com'},\n",
       "   'author': 'Aniket Verma',\n",
       "   'title': 'Ethereum below $4K: Whales are buying the dip, should you?',\n",
       "   'description': 'The bullish strategy of whales could be picked up by the broader market eventually.',\n",
       "   'url': 'https://ambcrypto.com/ethereum-below-4k-whales-are-buying-the-dip-should-you/',\n",
       "   'urlToImage': 'https://ambcrypto.com/wp-content/uploads/2024/03/ethereum-whales-1000x600.webp',\n",
       "   'publishedAt': '2024-03-31T01:00:34Z',\n",
       "   'content': '<ul><li>Whale transactions worth over $100,000 rose significantly in March.</li><li>The optimism could be flowing from CFTC labelling ETH as a commodity.</li></ul>Despite critical events like the Den… [+2240 chars]'},\n",
       "  {'source': {'id': None, 'name': 'GlobeNewswire'},\n",
       "   'author': 'Bragar Eagel & Squire',\n",
       "   'title': 'Bragar Eagel & Squire, P.C. Reminds Investors That Class Action Lawsuits Have Been Filed Against Hut 8, Anavex, and Innoviz and Encourages Investors to Contact the Firm',\n",
       "   'description': 'NEW YORK, March 30, 2024 (GLOBE NEWSWIRE) -- Bragar Eagel & Squire, P.C., a nationally recognized shareholder rights law firm, reminds investors that class actions have been commenced on behalf of stockholders of Hut 8 Corp. (NASDAQ: HUT), Anavex Life Science…',\n",
       "   'url': 'https://www.globenewswire.com/news-release/2024/03/31/2854884/0/en/Bragar-Eagel-Squire-P-C-Reminds-Investors-That-Class-Action-Lawsuits-Have-Been-Filed-Against-Hut-8-Anavex-and-Innoviz-and-Encourages-Investors-to-Contact-the-Firm.html',\n",
       "   'urlToImage': 'https://ml.globenewswire.com/Resource/Download/29481954-f2ff-4756-b5a9-d982a6497bd0',\n",
       "   'publishedAt': '2024-03-31T01:00:00Z',\n",
       "   'content': 'NEW YORK, March 30, 2024 (GLOBE NEWSWIRE) -- Bragar Eagel &amp; Squire, P.C., a nationally recognized shareholder rights law firm, reminds investors that class actions have been commenced on behalf o… [+5996 chars]'},\n",
       "  {'source': {'id': None, 'name': 'Biztoc.com'},\n",
       "   'author': 'coingape.com',\n",
       "   'title': 'Coinbase Data Signals Institutional Investors Buying Bitcoin Again',\n",
       "   'description': 'Bitcoin price continues to stay afloat above $70,000 despite the long holiday weekend. The crypto market mostly saw subdued activity amid some economic events including the US PCE inflation release, which came slightly hot. The total crypto market volume over…',\n",
       "   'url': 'https://biztoc.com/x/80850f7c8a990342',\n",
       "   'urlToImage': 'https://c.biztoc.com/p/80850f7c8a990342/s.webp',\n",
       "   'publishedAt': '2024-03-31T00:42:06Z',\n",
       "   'content': 'Bitcoin price continues to stay afloat above $70,000 despite the long holiday weekend. The crypto market mostly saw subdued activity amid some economic events including the US PCE inflation release, … [+300 chars]'}]}"
      ]
     },
     "execution_count": 47,
     "metadata": {},
     "output_type": "execute_result"
    }
   ],
   "source": [
    "#chama algumas noticias\n",
    "\n",
    "newsapi = NewsApiClient(api_key=newsapi_key)\n",
    "\n",
    "top_headlines = newsapi.get_everything(q=criterios['palavras-chave'], from_param=criterios['from'], to=criterios['to'], sort_by='publishedAt')\n",
    "\n",
    "top_headlines"
   ]
  }
 ],
 "metadata": {
  "kernelspec": {
   "display_name": "Python 3",
   "language": "python",
   "name": "python3"
  },
  "language_info": {
   "codemirror_mode": {
    "name": "ipython",
    "version": 3
   },
   "file_extension": ".py",
   "mimetype": "text/x-python",
   "name": "python",
   "nbconvert_exporter": "python",
   "pygments_lexer": "ipython3",
   "version": "3.12.2"
  }
 },
 "nbformat": 4,
 "nbformat_minor": 2
}
